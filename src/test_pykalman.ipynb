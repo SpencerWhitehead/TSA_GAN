{
 "cells": [
  {
   "cell_type": "code",
   "execution_count": 1,
   "metadata": {
    "scrolled": false
   },
   "outputs": [
    {
     "name": "stdout",
     "output_type": "stream",
     "text": [
      "tensor([[-0.6324,  0.4873],\n",
      "        [-0.0814,  0.3635],\n",
      "        [-1.7297,  0.2964]])\n"
     ]
    },
    {
     "name": "stderr",
     "output_type": "stream",
     "text": [
      "D:\\Documents\\Grad2\\Time Series\\Project\\TSA_GAN\\src\\pykalman\\standard.py:1551: UserWarning: To copy construct from a tensor, it is recommended to use sourceTensor.clone().detach() or sourceTensor.clone().detach().requires_grad_(True), rather than torch.tensor(sourceTensor).\n",
      "  return torch.tensor(obs)\n",
      "D:\\Documents\\Grad2\\Time Series\\Project\\TSA_GAN\\src\\pykalman\\standard.py:103: UserWarning: To copy construct from a tensor, it is recommended to use sourceTensor.clone().detach() or sourceTensor.clone().detach().requires_grad_(True), rather than torch.tensor(sourceTensor).\n",
      "  X = torch.tensor(X,dtype=torch.float64)\n",
      "D:\\Documents\\Grad2\\Time Series\\Project\\TSA_GAN\\src\\pykalman\\standard.py:264: UserWarning: To copy construct from a tensor, it is recommended to use sourceTensor.clone().detach() or sourceTensor.clone().detach().requires_grad_(True), rather than torch.tensor(sourceTensor).\n",
      "  predicted_state_mean),dtype=torch.float64)\n",
      "D:\\Documents\\Grad2\\Time Series\\Project\\TSA_GAN\\src\\pykalman\\standard.py:270: UserWarning: To copy construct from a tensor, it is recommended to use sourceTensor.clone().detach() or sourceTensor.clone().detach().requires_grad_(True), rather than torch.tensor(sourceTensor).\n",
      "  observation_matrix_t)),dtype=torch.float64)\n",
      "D:\\Documents\\Grad2\\Time Series\\Project\\TSA_GAN\\src\\pykalman\\standard.py:277: UserWarning: To copy construct from a tensor, it is recommended to use sourceTensor.clone().detach() or sourceTensor.clone().detach().requires_grad_(True), rather than torch.tensor(sourceTensor).\n",
      "  torch.pinverse(predicted_observation_covariance))),dtype=torch.float64)\n",
      "D:\\Documents\\Grad2\\Time Series\\Project\\TSA_GAN\\src\\pykalman\\standard.py:280: UserWarning: To copy construct from a tensor, it is recommended to use sourceTensor.clone().detach() or sourceTensor.clone().detach().requires_grad_(True), rather than torch.tensor(sourceTensor).\n",
      "  observation = torch.tensor(observation,dtype=torch.float64)\n",
      "D:\\Documents\\Grad2\\Time Series\\Project\\TSA_GAN\\src\\pykalman\\standard.py:281: UserWarning: To copy construct from a tensor, it is recommended to use sourceTensor.clone().detach() or sourceTensor.clone().detach().requires_grad_(True), rather than torch.tensor(sourceTensor).\n",
      "  predicted_observation_mean = torch.tensor(predicted_observation_mean,dtype=torch.float64)\n",
      "D:\\Documents\\Grad2\\Time Series\\Project\\TSA_GAN\\src\\pykalman\\standard.py:282: UserWarning: To copy construct from a tensor, it is recommended to use sourceTensor.clone().detach() or sourceTensor.clone().detach().requires_grad_(True), rather than torch.tensor(sourceTensor).\n",
      "  predicted_state_mean = torch.tensor(predicted_state_mean,dtype=torch.float64)\n",
      "D:\\Documents\\Grad2\\Time Series\\Project\\TSA_GAN\\src\\pykalman\\standard.py:283: UserWarning: To copy construct from a tensor, it is recommended to use sourceTensor.clone().detach() or sourceTensor.clone().detach().requires_grad_(True), rather than torch.tensor(sourceTensor).\n",
      "  predicted_state_covariance = torch.tensor(predicted_state_covariance,dtype=torch.float64)\n",
      "D:\\Documents\\Grad2\\Time Series\\Project\\TSA_GAN\\src\\pykalman\\standard.py:287: UserWarning: To copy construct from a tensor, it is recommended to use sourceTensor.clone().detach() or sourceTensor.clone().detach().requires_grad_(True), rather than torch.tensor(sourceTensor).\n",
      "  + torch.tensor(torch.matmul(kalman_gain, observation - predicted_observation_mean),dtype=torch.float64)\n",
      "D:\\Documents\\Grad2\\Time Series\\Project\\TSA_GAN\\src\\pykalman\\standard.py:293: UserWarning: To copy construct from a tensor, it is recommended to use sourceTensor.clone().detach() or sourceTensor.clone().detach().requires_grad_(True), rather than torch.tensor(sourceTensor).\n",
      "  predicted_state_covariance)),dtype=torch.float64)\n",
      "D:\\Documents\\Grad2\\Time Series\\Project\\TSA_GAN\\src\\pykalman\\standard.py:209: UserWarning: To copy construct from a tensor, it is recommended to use sourceTensor.clone().detach() or sourceTensor.clone().detach().requires_grad_(True), rather than torch.tensor(sourceTensor).\n",
      "  torch.tensor(torch.matmul(transition_matrix, current_state_mean),dtype=torch.float64)\n",
      "D:\\Documents\\Grad2\\Time Series\\Project\\TSA_GAN\\src\\pykalman\\standard.py:215: UserWarning: To copy construct from a tensor, it is recommended to use sourceTensor.clone().detach() or sourceTensor.clone().detach().requires_grad_(True), rather than torch.tensor(sourceTensor).\n",
      "  torch.t(transition_matrix))),dtype=torch.float64)\n",
      "D:\\Documents\\Grad2\\Time Series\\Project\\TSA_GAN\\src\\pykalman\\standard.py:457: UserWarning: To copy construct from a tensor, it is recommended to use sourceTensor.clone().detach() or sourceTensor.clone().detach().requires_grad_(True), rather than torch.tensor(sourceTensor).\n",
      "  torch.pinverse(predicted_state_covariance))),dtype=torch.float64)\n",
      "D:\\Documents\\Grad2\\Time Series\\Project\\TSA_GAN\\src\\pykalman\\standard.py:462: UserWarning: To copy construct from a tensor, it is recommended to use sourceTensor.clone().detach() or sourceTensor.clone().detach().requires_grad_(True), rather than torch.tensor(sourceTensor).\n",
      "  filtered_state_mean = torch.tensor(filtered_state_mean,dtype=torch.float64)\n",
      "D:\\Documents\\Grad2\\Time Series\\Project\\TSA_GAN\\src\\pykalman\\standard.py:463: UserWarning: To copy construct from a tensor, it is recommended to use sourceTensor.clone().detach() or sourceTensor.clone().detach().requires_grad_(True), rather than torch.tensor(sourceTensor).\n",
      "  filtered_state_covariance = torch.tensor(filtered_state_covariance,dtype=torch.float64)\n",
      "D:\\Documents\\Grad2\\Time Series\\Project\\TSA_GAN\\src\\pykalman\\standard.py:467: UserWarning: To copy construct from a tensor, it is recommended to use sourceTensor.clone().detach() or sourceTensor.clone().detach().requires_grad_(True), rather than torch.tensor(sourceTensor).\n",
      "  next_smoothed_state_mean - predicted_state_mean),dtype=torch.float64)\n",
      "D:\\Documents\\Grad2\\Time Series\\Project\\TSA_GAN\\src\\pykalman\\standard.py:476: UserWarning: To copy construct from a tensor, it is recommended to use sourceTensor.clone().detach() or sourceTensor.clone().detach().requires_grad_(True), rather than torch.tensor(sourceTensor).\n",
      "  )),dtype=torch.float64)\n",
      "D:\\Documents\\Grad2\\Time Series\\Project\\TSA_GAN\\src\\pykalman\\standard.py:574: UserWarning: To copy construct from a tensor, it is recommended to use sourceTensor.clone().detach() or sourceTensor.clone().detach().requires_grad_(True), rather than torch.tensor(sourceTensor).\n",
      "  ,dtype=torch.float64)\n",
      "D:\\Documents\\Grad2\\Time Series\\Project\\TSA_GAN\\src\\pykalman\\standard.py:758: UserWarning: To copy construct from a tensor, it is recommended to use sourceTensor.clone().detach() or sourceTensor.clone().detach().requires_grad_(True), rather than torch.tensor(sourceTensor).\n",
      "  - transition_offset\n",
      "D:\\Documents\\Grad2\\Time Series\\Project\\TSA_GAN\\src\\pykalman\\standard.py:759: UserWarning: To copy construct from a tensor, it is recommended to use sourceTensor.clone().detach() or sourceTensor.clone().detach().requires_grad_(True), rather than torch.tensor(sourceTensor).\n",
      "  ,dtype=torch.float64)\n",
      "D:\\Documents\\Grad2\\Time Series\\Project\\TSA_GAN\\src\\pykalman\\standard.py:765: UserWarning: To copy construct from a tensor, it is recommended to use sourceTensor.clone().detach() or sourceTensor.clone().detach().requires_grad_(True), rather than torch.tensor(sourceTensor).\n",
      "  ,dtype=torch.float64)\n",
      "D:\\Documents\\Grad2\\Time Series\\Project\\TSA_GAN\\src\\pykalman\\standard.py:829: UserWarning: To copy construct from a tensor, it is recommended to use sourceTensor.clone().detach() or sourceTensor.clone().detach().requires_grad_(True), rather than torch.tensor(sourceTensor).\n",
      "  - transition_offset\n",
      "D:\\Documents\\Grad2\\Time Series\\Project\\TSA_GAN\\src\\pykalman\\standard.py:834: UserWarning: To copy construct from a tensor, it is recommended to use sourceTensor.clone().detach() or sourceTensor.clone().detach().requires_grad_(True), rather than torch.tensor(sourceTensor).\n",
      "  ,dtype=torch.float64)\n",
      "D:\\Documents\\Grad2\\Time Series\\Project\\TSA_GAN\\src\\pykalman\\standard.py:841: UserWarning: To copy construct from a tensor, it is recommended to use sourceTensor.clone().detach() or sourceTensor.clone().detach().requires_grad_(True), rather than torch.tensor(sourceTensor).\n",
      "  - Vt1t_A - torch.t(Vt1t_A)\n"
     ]
    }
   ],
   "source": [
    "from pykalman import KalmanFilter\n",
    "import torch\n",
    "torch.set_default_dtype(torch.float64)\n",
    "kf = KalmanFilter(transition_matrices = torch.tensor([[1, 1], [0, 1]],dtype=torch.float64), \n",
    "                  observation_matrices = torch.tensor([[0.1, 0.5], [-0.3, 0.0]],dtype=torch.float64))\n",
    "measurements = torch.tensor([[1,0], [0,0], [0,1]],dtype=torch.float64)  # 3 observations\n",
    "kf = kf.em(measurements, n_iter=5)\n",
    "(filtered_state_means, filtered_state_covariances) = kf.filter(measurements)\n",
    "(smoothed_state_means, smoothed_state_covariances) = kf.smooth(measurements)\n",
    "print(filtered_state_means)"
   ]
  },
  {
   "cell_type": "code",
   "execution_count": 2,
   "metadata": {},
   "outputs": [
    {
     "name": "stdout",
     "output_type": "stream",
     "text": [
      "[0.1 0.5]\n",
      "tensor([[0.1000, 0.5000]])\n"
     ]
    },
    {
     "data": {
      "text/plain": [
       "tensor([[0.1000],\n",
       "        [0.5000]])"
      ]
     },
     "execution_count": 2,
     "metadata": {},
     "output_type": "execute_result"
    }
   ],
   "source": [
    "import torch\n",
    "import numpy as np\n",
    "x = torch.tensor([0.1000, 0.5000])\n",
    "y = torch.tensor([[1., 0.],\n",
    "           [0., 1.]])\n",
    "print(np.dot(np.array([[1., 0.],[0., 1.]]),\n",
    "          np.array([0.1000, 0.5000]).T))\n",
    "print(x.reshape(1,list(x.size())[0]))\n",
    "np.matmul(torch.tensor([[1., 0.],[0., 1.]]),x.reshape(list(x.size())[0],1))\n"
   ]
  }
 ],
 "metadata": {
  "kernelspec": {
   "display_name": "Python 3",
   "language": "python",
   "name": "python3"
  },
  "language_info": {
   "codemirror_mode": {
    "name": "ipython",
    "version": 3
   },
   "file_extension": ".py",
   "mimetype": "text/x-python",
   "name": "python",
   "nbconvert_exporter": "python",
   "pygments_lexer": "ipython3",
   "version": "3.7.1"
  }
 },
 "nbformat": 4,
 "nbformat_minor": 2
}
